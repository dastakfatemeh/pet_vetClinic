{
 "cells": [
  {
   "cell_type": "code",
   "execution_count": 1,
   "id": "cabcad00-d77c-49d0-a7cf-bae5cc4860c6",
   "metadata": {},
   "outputs": [],
   "source": [
    "# Standard library imports\n",
    "import os\n",
    "import logging\n",
    "from typing import Tuple, List, Dict, Any\n",
    "\n",
    "# Data processing imports\n",
    "import numpy as np\n",
    "import pandas as pd\n",
    "\n",
    "# Machine learning imports\n",
    "from sklearn.preprocessing import LabelEncoder\n",
    "from sklearn.model_selection import train_test_split\n",
    "from sklearn.metrics import (\n",
    "    precision_recall_fscore_support,\n",
    "    accuracy_score,\n",
    "    confusion_matrix,\n",
    "    ConfusionMatrixDisplay,\n",
    "    classification_report\n",
    ")\n",
    "\n",
    "# Deep learning imports\n",
    "import torch\n",
    "import torch.nn.functional as F\n",
    "from transformers import (\n",
    "    AutoTokenizer,\n",
    "    AutoModel,\n",
    "    AutoModelForSequenceClassification,\n",
    "    Trainer,\n",
    "    TrainingArguments\n",
    ")\n",
    "from sentence_transformers import SentenceTransformer\n",
    "\n",
    "# Set up logging\n",
    "logging.basicConfig(\n",
    "    level=logging.INFO,\n",
    "    format='%(asctime)s - %(levelname)s - %(message)s'\n",
    ")\n",
    "logger = logging.getLogger(__name__)"
   ]
  },
  {
   "cell_type": "markdown",
   "id": "8e11f666-ffc2-4abe-bcb9-92c6dc22b213",
   "metadata": {},
   "source": [
    "# Read the data"
   ]
  },
  {
   "cell_type": "code",
   "execution_count": null,
   "id": "93fe7f2e-01a4-4fa8-b169-9096cdde0ea2",
   "metadata": {},
   "outputs": [
    {
     "name": "stderr",
     "output_type": "stream",
     "text": [
      "C:\\Users\\fhoss\\AppData\\Local\\Temp\\ipykernel_5240\\3401015498.py:26: FutureWarning: DataFrame.applymap has been deprecated. Use DataFrame.map instead.\n",
      "  data = data.applymap(lambda x: x.lower() if isinstance(x, str) else x)\n",
      "2025-09-12 17:13:16,630 - INFO - Successfully loaded and preprocessed 2000 records\n"
     ]
    },
    {
     "name": "stdout",
     "output_type": "stream",
     "text": [
      "Dataset shape: (2000, 3)\n",
      "\n",
      "Columns: ['text', 'condition', 'record_type']\n",
      "\n",
      "Sample counts by record type:\n",
      "record_type\n",
      "clinical notes       1000\n",
      "owner observation    1000\n",
      "Name: count, dtype: int64\n"
     ]
    }
   ],
   "source": [
    "def load_and_preprocess_data(file_path: str) -> pd.DataFrame:\n",
    "    \"\"\"\n",
    "    Load and preprocess the dataset.\n",
    "    \n",
    "    Args:\n",
    "        file_path (str): Path to the CSV file\n",
    "        \n",
    "    Returns:\n",
    "        pd.DataFrame: Preprocessed dataset\n",
    "        \n",
    "    Raises:\n",
    "        FileNotFoundError: If the data file doesn't exist\n",
    "        pd.errors.EmptyDataError: If the file is empty\n",
    "    \"\"\"\n",
    "    try:\n",
    "        if not os.path.exists(file_path):\n",
    "            raise FileNotFoundError(f\"Data file not found at: {file_path}\")\n",
    "        \n",
    "        # Read CSV File\n",
    "        data = pd.read_csv(file_path)\n",
    "        \n",
    "        if data.empty:\n",
    "            raise pd.errors.EmptyDataError(\"The dataset is empty\")\n",
    "        \n",
    "        # Lower Case all string values in the dataset\n",
    "        data = data.applymap(lambda x: x.lower() if isinstance(x, str) else x)\n",
    "        \n",
    "        logger.info(f\"Successfully loaded and preprocessed {len(data)} records\")\n",
    "        return data\n",
    "        \n",
    "    except Exception as e:\n",
    "        logger.exeption(f\"Error loading data: {str(e)}\")\n",
    "        raise\n",
    "\n",
    "# Load and preprocess the data\n",
    "try:\n",
    "    data = load_and_preprocess_data('Raw_Data/pet-health-symptoms-dataset.csv')\n",
    "    \n",
    "    # Display basic information\n",
    "    print(\"Dataset shape:\", data.shape)\n",
    "    print(\"\\nColumns:\", data.columns.tolist())\n",
    "    print(\"\\nSample counts by record type:\")\n",
    "    print(data['record_type'].value_counts())\n",
    "    \n",
    "except Exception as e:\n",
    "    logger.exeption(f\"Failed to load or process data: {str(e)}\")\n",
    "    raise"
   ]
  },
  {
   "cell_type": "code",
   "execution_count": null,
   "id": "69189c61-0906-4c85-9cd7-bb8e485fba9e",
   "metadata": {},
   "outputs": [
    {
     "name": "stderr",
     "output_type": "stream",
     "text": [
      "2025-09-12 17:13:21,524 - INFO - Split data into 1000 clinical notes and 1000 owner observations\n"
     ]
    }
   ],
   "source": [
    "def split_data_by_type(data: pd.DataFrame) -> Tuple[pd.DataFrame, pd.DataFrame]:\n",
    "    \"\"\"\n",
    "    Split the data into clinical notes and owner observations.\n",
    "    \n",
    "    Args:\n",
    "        data (pd.DataFrame): Input dataset\n",
    "        \n",
    "    Returns:\n",
    "        Tuple[pd.DataFrame, pd.DataFrame]: Clinical notes and owner observations dataframes\n",
    "    \"\"\"\n",
    "    try:\n",
    "        data_clinic = data[data['record_type'] == 'clinical notes']\n",
    "        data_owner = data[data['record_type'] == 'owner observation']\n",
    "        \n",
    "        if data_clinic.empty or data_owner.empty:\n",
    "            raise ValueError(\"One or both of the split datasets are empty\")\n",
    "            \n",
    "        logger.info(f\"Split data into {len(data_clinic)} clinical notes and {len(data_owner)} owner observations\")\n",
    "        return data_clinic, data_owner\n",
    "        \n",
    "    except Exception as e:\n",
    "        logger.exeption(f\"Error splitting data: {str(e)}\")\n",
    "        raise\n",
    "\n",
    "# Split the data\n",
    "try:\n",
    "    data_clinic, data_owner = split_data_by_type(data)\n",
    "except Exception as e:\n",
    "    logger.exeption(f\"Failed to split data: {str(e)}\")\n",
    "    raise"
   ]
  },
  {
   "cell_type": "markdown",
   "id": "966f6d6d-56d2-477c-9366-1167edc27b2d",
   "metadata": {},
   "source": [
    "# Classification"
   ]
  },
  {
   "cell_type": "code",
   "execution_count": null,
   "id": "99236616-9108-4cae-89a0-52f6097e21c6",
   "metadata": {},
   "outputs": [
    {
     "name": "stdout",
     "output_type": "stream",
     "text": [
      "Label Encoding Map:\n",
      "            original  encoded\n",
      "0   digestive issues        0\n",
      "1     ear infections        1\n",
      "2  mobility problems        2\n",
      "3          parasites        3\n",
      "4   skin irritations        4\n",
      "\n",
      "Class distribution:\n",
      "condition_encoded  condition        \n",
      "0                  digestive issues     200\n",
      "1                  ear infections       200\n",
      "2                  mobility problems    200\n",
      "3                  parasites            200\n",
      "4                  skin irritations     200\n",
      "dtype: int64\n"
     ]
    },
    {
     "name": "stderr",
     "output_type": "stream",
     "text": [
      "C:\\Users\\fhoss\\AppData\\Local\\Temp\\ipykernel_5240\\1921215948.py:14: SettingWithCopyWarning: \n",
      "A value is trying to be set on a copy of a slice from a DataFrame.\n",
      "Try using .loc[row_indexer,col_indexer] = value instead\n",
      "\n",
      "See the caveats in the documentation: https://pandas.pydata.org/pandas-docs/stable/user_guide/indexing.html#returning-a-view-versus-a-copy\n",
      "  data[f'{column}_encoded'] = label_encoder.fit_transform(data[column])\n"
     ]
    }
   ],
   "source": [
    "def encode_labels(data: pd.DataFrame, column: str) -> Tuple[pd.DataFrame, LabelEncoder]:\n",
    "    \"\"\"\n",
    "    Encode category labels as numbers for model training.\n",
    "    \n",
    "    Args:\n",
    "        data (pd.DataFrame): Input dataset\n",
    "        column (str): Column name to encode\n",
    "        \n",
    "    Returns:\n",
    "        Tuple[pd.DataFrame, LabelEncoder]: Updated dataframe and the encoder\n",
    "    \"\"\"\n",
    "    try:\n",
    "        label_encoder = LabelEncoder()\n",
    "        data[f'{column}_encoded'] = label_encoder.fit_transform(data[column])\n",
    "        \n",
    "        # Display encoding mapping\n",
    "        encoding_map = pd.DataFrame({\n",
    "            'original': label_encoder.classes_,\n",
    "            'encoded': range(len(label_encoder.classes_))\n",
    "        })\n",
    "        print(\"Label Encoding Map:\")\n",
    "        print(encoding_map)\n",
    "        \n",
    "        return data, label_encoder\n",
    "        \n",
    "    except Exception as e:\n",
    "        logger.exeption(f\"Error encoding labels: {str(e)}\")\n",
    "        raise\n",
    "\n",
    "# Encode labels\n",
    "try:\n",
    "    data_owner, label_encoder = encode_labels(data_owner, 'condition')\n",
    "    print(\"\\nClass distribution:\")\n",
    "    print(data_owner.groupby(['condition_encoded', 'condition']).size())\n",
    "except Exception as e:\n",
    "    logger.exeption(f\"Failed to encode labels: {str(e)}\")\n",
    "    raise"
   ]
  },
  {
   "cell_type": "code",
   "execution_count": null,
   "id": "1854c72d-b1d9-435d-b09a-5b6843fc45c8",
   "metadata": {},
   "outputs": [
    {
     "name": "stderr",
     "output_type": "stream",
     "text": [
      "2025-09-12 17:13:49,835 - INFO - Split data into 800 training and 200 validation samples\n"
     ]
    }
   ],
   "source": [
    "def prepare_train_val_split(\n",
    "    data: pd.DataFrame,\n",
    "    text_column: str,\n",
    "    label_column: str,\n",
    "    test_size: float = 0.2,\n",
    "    random_state: int = 42\n",
    ") -> Tuple[pd.Series, pd.Series, pd.Series, pd.Series]:\n",
    "    \"\"\"\n",
    "    Split data into training and validation sets with stratification.\n",
    "    \n",
    "    Args:\n",
    "        data (pd.DataFrame): Input dataset\n",
    "        text_column (str): Name of the column containing text data\n",
    "        label_column (str): Name of the column containing labels\n",
    "        test_size (float): Proportion of data to use for validation\n",
    "        random_state (int): Random seed for reproducibility\n",
    "        \n",
    "    Returns:\n",
    "        Tuple containing train texts, validation texts, train labels, and validation labels\n",
    "        \n",
    "    Raises:\n",
    "        ValueError: If input data is invalid or empty\n",
    "    \"\"\"\n",
    "    try:\n",
    "        if data.empty:\n",
    "            raise ValueError(\"Input data is empty\")\n",
    "            \n",
    "        if text_column not in data.columns or label_column not in data.columns:\n",
    "            raise ValueError(f\"Missing required columns. Need {text_column} and {label_column}\")\n",
    "            \n",
    "        train_texts, val_texts, train_labels, val_labels = train_test_split(\n",
    "            data[text_column],\n",
    "            data[label_column],\n",
    "            stratify=data[label_column],\n",
    "            test_size=test_size,\n",
    "            random_state=random_state\n",
    "        )\n",
    "        \n",
    "        logger.info(f\"Split data into {len(train_texts)} training and {len(val_texts)} validation samples\")\n",
    "        return train_texts, val_texts, train_labels, val_labels\n",
    "        \n",
    "    except Exception as e:\n",
    "        logger.exeption(f\"Error in train-validation split: {str(e)}\")\n",
    "        raise\n",
    "\n",
    "# Prepare train-validation split\n",
    "try:\n",
    "    train_texts, val_texts, train_labels, val_labels = prepare_train_val_split(\n",
    "        data=data_owner,\n",
    "        text_column='text',\n",
    "        label_column='condition_encoded'\n",
    "    )\n",
    "except Exception as e:\n",
    "    logger.exeption(f\"Failed to split data into train-validation sets: {str(e)}\")\n",
    "    raise"
   ]
  },
  {
   "cell_type": "code",
   "execution_count": null,
   "id": "2f31c02d-7070-4b3a-bf95-22df403085e0",
   "metadata": {},
   "outputs": [
    {
     "name": "stderr",
     "output_type": "stream",
     "text": [
      "2025-09-12 17:14:12,617 - INFO - Loaded tokenizer from havocy28/VetBERTDx\n",
      "2025-09-12 17:14:12,649 - INFO - Successfully created training and validation datasets\n"
     ]
    }
   ],
   "source": [
    "class PetHealthDataset(torch.utils.data.Dataset):\n",
    "    \"\"\"\n",
    "    PyTorch Dataset for pet health text classification.\n",
    "    \n",
    "    Attributes:\n",
    "        encodings: Tokenized and encoded text data\n",
    "        labels: Encoded labels for classification\n",
    "    \"\"\"\n",
    "    def __init__(self, encodings, labels):\n",
    "        self.encodings = encodings\n",
    "        self.labels = labels\n",
    "\n",
    "    def __getitem__(self, idx: int) -> Dict[str, torch.Tensor]:\n",
    "        \"\"\"Get a single item from the dataset.\"\"\"\n",
    "        item = {key: torch.tensor(val[idx]) for key, val in self.encodings.items()}\n",
    "        item['labels'] = self.labels[idx]\n",
    "        return item\n",
    "\n",
    "    def __len__(self) -> int:\n",
    "        \"\"\"Get the total size of the dataset.\"\"\"\n",
    "        return len(self.labels)\n",
    "\n",
    "def prepare_model_inputs(\n",
    "    train_texts: pd.Series,\n",
    "    val_texts: pd.Series,\n",
    "    train_labels: pd.Series,\n",
    "    val_labels: pd.Series,\n",
    "    model_name: str = \"havocy28/VetBERTDx\",\n",
    "    max_length: int = 512\n",
    ") -> Tuple[PetHealthDataset, PetHealthDataset, AutoTokenizer]:\n",
    "    \"\"\"\n",
    "    Prepare model inputs by tokenizing texts and creating datasets.\n",
    "    \n",
    "    Args:\n",
    "        train_texts: Training text data\n",
    "        val_texts: Validation text data\n",
    "        train_labels: Training labels\n",
    "        val_labels: Validation labels\n",
    "        model_name: Name of the pre-trained model to use\n",
    "        max_length: Maximum sequence length for tokenization\n",
    "        \n",
    "    Returns:\n",
    "        Tuple containing training dataset, validation dataset, and tokenizer\n",
    "        \n",
    "    Raises:\n",
    "        RuntimeError: If tokenization or dataset creation fails\n",
    "    \"\"\"\n",
    "    try:\n",
    "        # Load tokenizer\n",
    "        tokenizer = AutoTokenizer.from_pretrained(model_name)\n",
    "        logger.info(f\"Loaded tokenizer from {model_name}\")\n",
    "        \n",
    "        # Tokenize texts\n",
    "        train_encodings = tokenizer(\n",
    "            list(train_texts),\n",
    "            truncation=True,\n",
    "            padding=True,\n",
    "            max_length=max_length\n",
    "        )\n",
    "        val_encodings = tokenizer(\n",
    "            list(val_texts),\n",
    "            truncation=True,\n",
    "            padding=True,\n",
    "            max_length=max_length\n",
    "        )\n",
    "        \n",
    "        # Convert labels to tensors\n",
    "        train_labels = train_labels.reset_index(drop=True)\n",
    "        val_labels = val_labels.reset_index(drop=True)\n",
    "        train_labels_tensor = torch.tensor(train_labels.values).long()\n",
    "        val_labels_tensor = torch.tensor(val_labels.values).long()\n",
    "        \n",
    "        # Create datasets\n",
    "        train_dataset = PetHealthDataset(train_encodings, train_labels_tensor)\n",
    "        val_dataset = PetHealthDataset(val_encodings, val_labels_tensor)\n",
    "        \n",
    "        logger.info(\"Successfully created training and validation datasets\")\n",
    "        return train_dataset, val_dataset, tokenizer\n",
    "        \n",
    "    except Exception as e:\n",
    "        logger.exeption(f\"Error preparing model inputs: {str(e)}\")\n",
    "        raise RuntimeError(f\"Failed to prepare model inputs: {str(e)}\")\n",
    "\n",
    "# Prepare model inputs\n",
    "try:\n",
    "    train_dataset, val_dataset, tokenizer = prepare_model_inputs(\n",
    "        train_texts=train_texts,\n",
    "        val_texts=val_texts,\n",
    "        train_labels=train_labels,\n",
    "        val_labels=val_labels\n",
    "    )\n",
    "except Exception as e:\n",
    "    logger.exeption(f\"Failed to prepare model inputs: {str(e)}\")\n",
    "    raise"
   ]
  },
  {
   "cell_type": "code",
   "execution_count": 8,
   "id": "3d6e685d-81f0-45d2-9dbb-bc54804bb1e1",
   "metadata": {},
   "outputs": [],
   "source": [
    "#Loging to Hugging face if you want to save the model in hugging face \n",
    "#Use the token for writing to save teh model in huging face\n",
    "hf_token_write = \"hf_token_write\"\n",
    "\n",
    "# In your notebook\n",
    "from huggingface_hub import login\n",
    "from HF_t import hf_token_write  # Import your token securely\n",
    "\n",
    "login(token=hf_token_write)"
   ]
  },
  {
   "cell_type": "code",
   "execution_count": 9,
   "id": "efe1cfda-a745-40e0-b168-bcbca46c14d5",
   "metadata": {},
   "outputs": [
    {
     "name": "stderr",
     "output_type": "stream",
     "text": [
      "c:\\Users\\fhoss\\AppData\\Local\\Programs\\Python\\Python312\\Lib\\site-packages\\mlflow\\utils\\requirements_utils.py:20: UserWarning: pkg_resources is deprecated as an API. See https://setuptools.pypa.io/en/latest/pkg_resources.html. The pkg_resources package is slated for removal as early as 2025-11-30. Refrain from using this package or pin to Setuptools<81.\n",
      "  import pkg_resources  # noqa: TID251\n",
      "c:\\Users\\fhoss\\AppData\\Local\\Programs\\Python\\Python312\\Lib\\site-packages\\torch\\utils\\data\\dataloader.py:666: UserWarning: 'pin_memory' argument is set as true but no accelerator is found, then device pinned memory won't be used.\n",
      "  warnings.warn(warn_msg)\n"
     ]
    },
    {
     "data": {
      "text/html": [
       "\n",
       "    <div>\n",
       "      \n",
       "      <progress value='301' max='500' style='width:300px; height:20px; vertical-align: middle;'></progress>\n",
       "      [301/500 10:30 < 06:59, 0.47 it/s, Epoch 3/5]\n",
       "    </div>\n",
       "    <table border=\"1\" class=\"dataframe\">\n",
       "  <thead>\n",
       " <tr style=\"text-align: left;\">\n",
       "      <th>Step</th>\n",
       "      <th>Training Loss</th>\n",
       "      <th>Validation Loss</th>\n",
       "      <th>Accuracy</th>\n",
       "      <th>Precision</th>\n",
       "      <th>Recall</th>\n",
       "      <th>F1</th>\n",
       "    </tr>\n",
       "  </thead>\n",
       "  <tbody>\n",
       "    <tr>\n",
       "      <td>50</td>\n",
       "      <td>2.016500</td>\n",
       "      <td>1.610994</td>\n",
       "      <td>0.495000</td>\n",
       "      <td>0.541369</td>\n",
       "      <td>0.495000</td>\n",
       "      <td>0.408002</td>\n",
       "    </tr>\n",
       "    <tr>\n",
       "      <td>100</td>\n",
       "      <td>0.871500</td>\n",
       "      <td>0.696645</td>\n",
       "      <td>0.805000</td>\n",
       "      <td>0.803342</td>\n",
       "      <td>0.805000</td>\n",
       "      <td>0.801843</td>\n",
       "    </tr>\n",
       "    <tr>\n",
       "      <td>150</td>\n",
       "      <td>0.550200</td>\n",
       "      <td>0.581508</td>\n",
       "      <td>0.830000</td>\n",
       "      <td>0.835411</td>\n",
       "      <td>0.830000</td>\n",
       "      <td>0.827177</td>\n",
       "    </tr>\n",
       "    <tr>\n",
       "      <td>200</td>\n",
       "      <td>0.552600</td>\n",
       "      <td>0.474248</td>\n",
       "      <td>0.875000</td>\n",
       "      <td>0.875328</td>\n",
       "      <td>0.875000</td>\n",
       "      <td>0.873478</td>\n",
       "    </tr>\n",
       "    <tr>\n",
       "      <td>250</td>\n",
       "      <td>0.301000</td>\n",
       "      <td>0.492223</td>\n",
       "      <td>0.875000</td>\n",
       "      <td>0.877779</td>\n",
       "      <td>0.875000</td>\n",
       "      <td>0.872432</td>\n",
       "    </tr>\n",
       "    <tr>\n",
       "      <td>300</td>\n",
       "      <td>0.196700</td>\n",
       "      <td>0.425052</td>\n",
       "      <td>0.890000</td>\n",
       "      <td>0.891344</td>\n",
       "      <td>0.890000</td>\n",
       "      <td>0.888988</td>\n",
       "    </tr>\n",
       "  </tbody>\n",
       "</table><p>"
      ],
      "text/plain": [
       "<IPython.core.display.HTML object>"
      ]
     },
     "metadata": {},
     "output_type": "display_data"
    },
    {
     "name": "stderr",
     "output_type": "stream",
     "text": [
      "c:\\Users\\fhoss\\AppData\\Local\\Programs\\Python\\Python312\\Lib\\site-packages\\sklearn\\metrics\\_classification.py:1497: UndefinedMetricWarning: Precision is ill-defined and being set to 0.0 in labels with no predicted samples. Use `zero_division` parameter to control this behavior.\n",
      "  _warn_prf(average, modifier, f\"{metric.capitalize()} is\", len(result))\n",
      "c:\\Users\\fhoss\\AppData\\Local\\Programs\\Python\\Python312\\Lib\\site-packages\\torch\\utils\\data\\dataloader.py:666: UserWarning: 'pin_memory' argument is set as true but no accelerator is found, then device pinned memory won't be used.\n",
      "  warnings.warn(warn_msg)\n",
      "c:\\Users\\fhoss\\AppData\\Local\\Programs\\Python\\Python312\\Lib\\site-packages\\torch\\utils\\data\\dataloader.py:666: UserWarning: 'pin_memory' argument is set as true but no accelerator is found, then device pinned memory won't be used.\n",
      "  warnings.warn(warn_msg)\n",
      "c:\\Users\\fhoss\\AppData\\Local\\Programs\\Python\\Python312\\Lib\\site-packages\\torch\\utils\\data\\dataloader.py:666: UserWarning: 'pin_memory' argument is set as true but no accelerator is found, then device pinned memory won't be used.\n",
      "  warnings.warn(warn_msg)\n",
      "c:\\Users\\fhoss\\AppData\\Local\\Programs\\Python\\Python312\\Lib\\site-packages\\torch\\utils\\data\\dataloader.py:666: UserWarning: 'pin_memory' argument is set as true but no accelerator is found, then device pinned memory won't be used.\n",
      "  warnings.warn(warn_msg)\n",
      "c:\\Users\\fhoss\\AppData\\Local\\Programs\\Python\\Python312\\Lib\\site-packages\\torch\\utils\\data\\dataloader.py:666: UserWarning: 'pin_memory' argument is set as true but no accelerator is found, then device pinned memory won't be used.\n",
      "  warnings.warn(warn_msg)\n",
      "c:\\Users\\fhoss\\AppData\\Local\\Programs\\Python\\Python312\\Lib\\site-packages\\torch\\utils\\data\\dataloader.py:666: UserWarning: 'pin_memory' argument is set as true but no accelerator is found, then device pinned memory won't be used.\n",
      "  warnings.warn(warn_msg)\n"
     ]
    },
    {
     "data": {
      "text/plain": [
       "TrainOutput(global_step=301, training_loss=1.1496917042522334, metrics={'train_runtime': 634.6254, 'train_samples_per_second': 6.303, 'train_steps_per_second': 0.788, 'total_flos': 33422092321968.0, 'train_loss': 1.1496917042522334, 'epoch': 3.01})"
      ]
     },
     "execution_count": 9,
     "metadata": {},
     "output_type": "execute_result"
    }
   ],
   "source": [
    "# Define your metric computation function\n",
    "model_name = \"havocy28/VetBERTDx\"\n",
    "model = AutoModelForSequenceClassification.from_pretrained(model_name)\n",
    "def compute_metrics(p):\n",
    "    preds = np.argmax(p.predictions, axis=1)\n",
    "    labels = p.label_ids\n",
    "    precision, recall, f1, _ = precision_recall_fscore_support(labels, preds, average='weighted')\n",
    "    acc = accuracy_score(labels, preds)\n",
    "    return {\n",
    "        'accuracy': acc,\n",
    "        'precision': precision,\n",
    "        'recall': recall,\n",
    "        'f1': f1,\n",
    "    }\n",
    "\n",
    "# Define training arguments (don't use push_to_hub=True if you don't want to stor the model in Hugging face\n",
    "training_args = TrainingArguments(\n",
    "    output_dir='./model_calssification',\n",
    "    num_train_epochs=5,\n",
    "    per_device_train_batch_size=8,\n",
    "    per_device_eval_batch_size=20,\n",
    "    eval_strategy=\"steps\",  # Evaluate at fixed intervals\n",
    "    eval_steps=50,                # Evaluate every 50 steps\n",
    "    save_strategy=\"steps\",\n",
    "    save_steps=50,\n",
    "    logging_dir='./logs',\n",
    "    logging_steps=10,\n",
    "    load_best_model_at_end=True,\n",
    "    metric_for_best_model='eval_loss',\n",
    "    greater_is_better=False,\n",
    "    learning_rate=2e-5,\n",
    "    lr_scheduler_type='linear',\n",
    "    warmup_ratio=0.1,\n",
    "    push_to_hub=True,\n",
    ")\n",
    "# # Add the EarlyStoppingCallback with patience and threshold\n",
    "# early_stopping = EarlyStoppingCallback(\n",
    "#     early_stopping_patience=3,             # Number of evaluations with no improvement to wait before stopping\n",
    "#     early_stopping_threshold=0.0           # Minimum improvement to be considered (default is 0.0)\n",
    "# )\n",
    "\n",
    "from transformers import TrainerCallback\n",
    "\n",
    "class StopAtStepCallback(TrainerCallback):\n",
    "    def __init__(self, stop_step):\n",
    "        self.stop_step = stop_step\n",
    "\n",
    "    def on_step_end(self, args, state, control, **kwargs):\n",
    "        if state.global_step >= self.stop_step:\n",
    "            control.should_training_stop = True\n",
    "        return control\n",
    "\n",
    "# Use it in your Trainer\n",
    "stop_callback = StopAtStepCallback(stop_step=301)\n",
    "# Define Trainer\n",
    "trainer = Trainer(\n",
    "    model=model,\n",
    "    args=training_args,\n",
    "    train_dataset=train_dataset,\n",
    "    eval_dataset=val_dataset,\n",
    "    compute_metrics=compute_metrics,  # Pass metric calculation function\n",
    "    callbacks=[stop_callback]\n",
    ")\n",
    "\n",
    "# Start training\n",
    "trainer.train()"
   ]
  },
  {
   "cell_type": "code",
   "execution_count": null,
   "id": "632878a6-132f-4f0a-9d9c-bb50afcaf1df",
   "metadata": {},
   "outputs": [
    {
     "data": {
      "application/vnd.jupyter.widget-view+json": {
       "model_id": "daecd0dfbff64a2380f61759a1f4214b",
       "version_major": 2,
       "version_minor": 0
      },
      "text/plain": [
       "README.md: 0.00B [00:00, ?B/s]"
      ]
     },
     "metadata": {},
     "output_type": "display_data"
    },
    {
     "name": "stderr",
     "output_type": "stream",
     "text": [
      "c:\\Users\\fhoss\\AppData\\Local\\Programs\\Python\\Python312\\Lib\\site-packages\\huggingface_hub\\file_download.py:143: UserWarning: `huggingface_hub` cache-system uses symlinks by default to efficiently store duplicated files but your machine does not support them in C:\\Users\\fhoss\\.cache\\huggingface\\hub\\models--fdastak--model_calssification. Caching files will still work but in a degraded version that might require more space on your disk. This warning can be disabled by setting the `HF_HUB_DISABLE_SYMLINKS_WARNING` environment variable. For more details, see https://huggingface.co/docs/huggingface_hub/how-to-cache#limitations.\n",
      "To support symlinks on Windows, you either need to activate Developer Mode or to run Python as an administrator. In order to activate developer mode, see this article: https://docs.microsoft.com/en-us/windows/apps/get-started/enable-your-device-for-development\n",
      "  warnings.warn(message)\n",
      "No files have been modified since last commit. Skipping to prevent empty commit.\n",
      "2025-09-12 17:37:08,076 - WARNING - No files have been modified since last commit. Skipping to prevent empty commit.\n"
     ]
    },
    {
     "data": {
      "text/plain": [
       "CommitInfo(commit_url='https://huggingface.co/fdastak/model_calssification/commit/5cce459c03f5331fd6c86bc6eb9fd6ede7772059', commit_message='Upload tokenizer', commit_description='', oid='5cce459c03f5331fd6c86bc6eb9fd6ede7772059', pr_url=None, repo_url=RepoUrl('https://huggingface.co/fdastak/model_calssification', endpoint='https://huggingface.co', repo_type='model', repo_id='fdastak/model_calssification'), pr_revision=None, pr_num=None)"
      ]
     },
     "execution_count": 10,
     "metadata": {},
     "output_type": "execute_result"
    }
   ],
   "source": [
    "#Push the tokenizer to the Hugging face \n",
    "repo_id = \"fdastak/model_classification\" \n",
    "tokenizer.push_to_hub(repo_id)"
   ]
  },
  {
   "cell_type": "code",
   "execution_count": null,
   "id": "1749c1a1-ac5e-430d-9beb-fe0dd556c61a",
   "metadata": {},
   "outputs": [
    {
     "data": {
      "text/plain": [
       "('./model/classification_ownernotes_clean\\\\tokenizer_config.json',\n",
       " './model/classification_ownernotes_clean\\\\special_tokens_map.json',\n",
       " './model/classification_ownernotes_clean\\\\vocab.txt',\n",
       " './model/classification_ownernotes_clean\\\\added_tokens.json',\n",
       " './model/classification_ownernotes_clean\\\\tokenizer.json')"
      ]
     },
     "execution_count": 12,
     "metadata": {},
     "output_type": "execute_result"
    }
   ],
   "source": [
    "# Save teh model locally\n",
    "# Suppose you have your Trainer instance named `trainer`\n",
    "# trainer.save_model(\"./model/classification_ownernotes\")\n",
    "# tokenizer.save_pretrained(\"./model/classification_ownernotes\")"
   ]
  },
  {
   "cell_type": "code",
   "execution_count": null,
   "id": "3e32095f-99d9-4c93-91a7-e9bda26f181f",
   "metadata": {},
   "outputs": [],
   "source": [
    "#Load the model from local directory\n",
    "# from transformers import AutoModelForSequenceClassification, AutoTokenizer\n",
    "\n",
    "# model_path = \"./model/classification_ownernotes\"\n",
    "\n",
    "# model = AutoModelForSequenceClassification.from_pretrained(model_path)\n",
    "# tokenizer = AutoTokenizer.from_pretrained(model_path)  "
   ]
  },
  {
   "cell_type": "markdown",
   "id": "5f2ad64d-2506-48b0-8014-cd091a473689",
   "metadata": {},
   "source": [
    "#  Model Storage and Loading\n",
    "\n",
    "To handle large model files efficiently:\n",
    "\n",
    "1. The model files have been uploaded to Hugging Face's Model Hub\n",
    "2. Instead of storing large model files in GitHub, we'll load the model directly from Hugging Face\n",
    "3. Local model files are added to `.gitignore`\n",
    "\n",
    "To use this model:\n",
    "1. For training: The model will save locally in `./model/classification_ownernotes/`\n",
    "2. For deployment: Load the model directly from Hugging Face (see next cell)"
   ]
  },
  {
   "cell_type": "code",
   "execution_count": null,
   "id": "3a695fdc-f667-442d-b6ce-cee10fda2315",
   "metadata": {},
   "outputs": [
    {
     "data": {
      "application/vnd.jupyter.widget-view+json": {
       "model_id": "947aab0326d94f4c9e8d8296d533804e",
       "version_major": 2,
       "version_minor": 0
      },
      "text/plain": [
       "config.json: 0.00B [00:00, ?B/s]"
      ]
     },
     "metadata": {},
     "output_type": "display_data"
    },
    {
     "data": {
      "application/vnd.jupyter.widget-view+json": {
       "model_id": "d49cb5088ae04d51bf7d3f51af8ae7c9",
       "version_major": 2,
       "version_minor": 0
      },
      "text/plain": [
       "model.safetensors:   0%|          | 0.00/433M [00:00<?, ?B/s]"
      ]
     },
     "metadata": {},
     "output_type": "display_data"
    },
    {
     "data": {
      "application/vnd.jupyter.widget-view+json": {
       "model_id": "217fa20e3c944850b6ec3f49895b0491",
       "version_major": 2,
       "version_minor": 0
      },
      "text/plain": [
       "tokenizer_config.json: 0.00B [00:00, ?B/s]"
      ]
     },
     "metadata": {},
     "output_type": "display_data"
    },
    {
     "data": {
      "application/vnd.jupyter.widget-view+json": {
       "model_id": "cca02708c4ad4c5bab71cd8c36db661f",
       "version_major": 2,
       "version_minor": 0
      },
      "text/plain": [
       "vocab.txt: 0.00B [00:00, ?B/s]"
      ]
     },
     "metadata": {},
     "output_type": "display_data"
    },
    {
     "data": {
      "application/vnd.jupyter.widget-view+json": {
       "model_id": "d9d844f5f3de4f52b003c7dbe1cb3a2e",
       "version_major": 2,
       "version_minor": 0
      },
      "text/plain": [
       "tokenizer.json: 0.00B [00:00, ?B/s]"
      ]
     },
     "metadata": {},
     "output_type": "display_data"
    },
    {
     "data": {
      "application/vnd.jupyter.widget-view+json": {
       "model_id": "20d3a1edb3da45bc9425837e8786deff",
       "version_major": 2,
       "version_minor": 0
      },
      "text/plain": [
       "special_tokens_map.json:   0%|          | 0.00/132 [00:00<?, ?B/s]"
      ]
     },
     "metadata": {},
     "output_type": "display_data"
    }
   ],
   "source": [
    "#loading the model from hugging face\n",
    "#Use the token for reading to load the model in huging face\n",
    "hf_token_write = \"hf_token_read\"\n",
    "\n",
    "# In your notebook\n",
    "from huggingface_hub import login\n",
    "from HF_t import hf_token_read  # Import your token securely\n",
    "\n",
    "login(token=hf_token_read)\n",
    "\n",
    "# Replace \"your-username/my-awesome-fine-tuned-model\" with your actual repository ID\n",
    "repo_id = \"fdastak/model_classification\" \n",
    "\n",
    "# Load the fine-tuned model and its tokenizer\n",
    "model = AutoModelForSequenceClassification.from_pretrained(repo_id)\n",
    "tokenizer = AutoTokenizer.from_pretrained(repo_id)"
   ]
  },
  {
   "cell_type": "code",
   "execution_count": 12,
   "id": "e0b328e8-847d-40b2-8411-bd9735f46d2e",
   "metadata": {},
   "outputs": [
    {
     "data": {
      "image/png": "[encoded data removed]",
      "text/plain": [
       "<Figure size 640x480 with 2 Axes>"
      ]
     },
     "metadata": {},
     "output_type": "display_data"
    }
   ],
   "source": [
    "from sklearn.metrics import confusion_matrix, ConfusionMatrixDisplay\n",
    "import matplotlib.pyplot as plt\n",
    "import torch\n",
    "\n",
    "\n",
    "# 1. Put your model in evaluation mode\n",
    "model.eval()\n",
    "\n",
    "# 2. Prepare lists to collect true labels and predictions\n",
    "true_labels = []\n",
    "pred_labels = []\n",
    "pred_scores=[]\n",
    "\n",
    "# 3. Disable gradient computation for inference\n",
    "with torch.no_grad():\n",
    "    for batch in val_dataset:\n",
    "        # Move input tensors to model device if needed, e.g., batch['input_ids'].to(device)\n",
    "        inputs = {k: v.unsqueeze(0) if v.dim() == 1 else v for k, v in batch.items() if k != 'labels'}\n",
    "        labels = batch['labels'].unsqueeze(0)  # batch size 1\n",
    "        # Remove token_type_ids if present\n",
    "        if 'token_type_ids' in inputs:\n",
    "           inputs.pop('token_type_ids')\n",
    "\n",
    "        # Model prediction\n",
    "        outputs = model(**inputs)\n",
    "        logits = outputs.logits\n",
    "        # Apply softmax to get probabilities over classes\n",
    "        probs = F.softmax(logits, dim=-1)\n",
    "        pred_score, pred_label = torch.max(probs, dim=1)\n",
    "\n",
    "        true_labels.append(labels.item())\n",
    "        pred_labels.append(pred_label.item())\n",
    "        pred_scores.append(pred_score.item())  \n",
    "\n",
    "\n",
    "# 4. Compute confusion matrix\n",
    "cm = confusion_matrix(true_labels, pred_labels)\n",
    "\n",
    "# 5. Display confusion matrix\n",
    "disp = ConfusionMatrixDisplay(confusion_matrix=cm)\n",
    "disp.plot(cmap=plt.cm.Blues)\n",
    "plt.title(\"Confusion Matrix - Validation Set\")\n",
    "plt.show()"
   ]
  },
  {
   "cell_type": "code",
   "execution_count": 14,
   "id": "722ef17b-0ed1-439f-b0af-cd6dfe887b93",
   "metadata": {},
   "outputs": [
    {
     "name": "stdout",
     "output_type": "stream",
     "text": [
      "              precision    recall  f1-score   support\n",
      "\n",
      "           0       0.97      0.93      0.95        40\n",
      "           1       0.85      1.00      0.92        40\n",
      "           2       0.93      0.93      0.93        40\n",
      "           3       0.84      0.80      0.82        40\n",
      "           4       0.86      0.80      0.83        40\n",
      "\n",
      "    accuracy                           0.89       200\n",
      "   macro avg       0.89      0.89      0.89       200\n",
      "weighted avg       0.89      0.89      0.89       200\n",
      "\n"
     ]
    }
   ],
   "source": [
    "# Generate the classification report\n",
    "from sklearn.metrics import classification_report\n",
    "report = classification_report(true_labels, pred_labels)\n",
    "print(report)"
   ]
  }
 ],
 "metadata": {
  "kernelspec": {
   "display_name": "Python 3",
   "language": "python",
   "name": "python3"
  },
  "language_info": {
   "codemirror_mode": {
    "name": "ipython",
    "version": 3
   },
   "file_extension": ".py",
   "mimetype": "text/x-python",
   "name": "python",
   "nbconvert_exporter": "python",
   "pygments_lexer": "ipython3",
   "version": "3.12.1"
  }
 },
 "nbformat": 4,
 "nbformat_minor": 5
}
